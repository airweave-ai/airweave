{
 "cells": [
  {
   "cell_type": "markdown",
   "id": "a81ff50b",
   "metadata": {},
   "source": [
    "#### How to use the Airweave API\n",
    "\n",
    "This notebook will go through an example of how to use the Airweave API to transform data from your app into a searchable knowledge base.\n",
    "Specifically, we will make an entire GitHub repository searchable in a few steps."
   ]
  },
  {
   "cell_type": "markdown",
   "id": "8a2ddb8b",
   "metadata": {},
   "source": [
    "##### Install the Airweave SDK"
   ]
  },
  {
   "cell_type": "code",
   "execution_count": null,
   "id": "f7760389",
   "metadata": {},
   "outputs": [],
   "source": [
    "pip install airweave-sdk"
   ]
  },
  {
   "cell_type": "markdown",
   "id": "4661c0ef",
   "metadata": {},
   "source": [
    "##### Set-up the Airweave Client\n",
    "To create an API key go to https://app.airweave.ai, create an account, select \"API Keys\" in the sidebar and click \"Create Key\". \n"
   ]
  },
  {
   "cell_type": "code",
   "execution_count": null,
   "id": "9d5c4b7e",
   "metadata": {},
   "outputs": [],
   "source": [
    "from airweave import AirweaveSDK\n",
    "\n",
    "client = AirweaveSDK(api_key=\"YOUR_API_KEY\")"
   ]
  },
  {
   "cell_type": "markdown",
   "id": "f3e890bd",
   "metadata": {},
   "source": [
    "##### Let's create a collection\n",
    "A collection is a searchable knowledge base composed of different data sources.\n",
    "\n",
    "Note that the newly created collection is initially empty and does not contain any data until we explicitly add source connections to it.\n",
    "\n",
    "More information about the collection endpoint can be found in the [API Reference](https://docs.airweave.ai/api-reference/collections/create-collection-collections-post)."
   ]
  },
  {
   "cell_type": "code",
   "execution_count": null,
   "id": "71c7223b",
   "metadata": {},
   "outputs": [],
   "source": [
    "collection = client.collections.create(\n",
    "    name=\"My First Collection\"\n",
    ")\n",
    "\n",
    "print(collection.readable_id)"
   ]
  },
  {
   "cell_type": "markdown",
   "id": "185b6f04",
   "metadata": {},
   "source": [
    "##### Let's add a source connection to our collection\n",
    "A source connection is an authenticated and configured link to a data source that syncs data into the collection.\n",
    "\n",
    "More information about the source connection endpoint can be found in the [API Reference](https://docs.airweave.ai/api-reference/source-connections/create-source-connection-source-connections-post).\n",
    "\n",
    "See https://docs.airweave.ai/docs/connectors/github for more information on how to get a personal access token for Github.\n"
   ]
  },
  {
   "cell_type": "code",
   "execution_count": null,
   "id": "94c1ee8c",
   "metadata": {},
   "outputs": [],
   "source": [
    "source_connection = client.source_connections.create_source_connection(\n",
    "    name=\"My Github Connection\",\n",
    "    short_name=\"github\",\n",
    "    collection=collection.readable_id,\n",
    "    auth_fields={\n",
    "        \"personal_access_token\": \"YOUR_PERSONAL_ACCESS_TOKEN\",\n",
    "        \"repo_name\": \"YOUR_REPO_NAME\" # The repo you want to sync\n",
    "    },\n",
    "    config_fields={\n",
    "        \"branch\": \"main\" # The branch you want to sync\n",
    "    },\n",
    "    cron_schedule=\"0 8 * * 1\", # sync every Monday at 8:00 AM\n",
    "    sync_immediately=True\n",
    ")"
   ]
  },
  {
   "cell_type": "markdown",
   "id": "d6ea5272",
   "metadata": {},
   "source": [
    "##### Let's wait for the data sync to complete\n",
    "\n",
    "The code below repeatedly checks the status of the data synchronization until it changes."
   ]
  },
  {
   "cell_type": "code",
   "execution_count": null,
   "id": "22b1c808",
   "metadata": {},
   "outputs": [],
   "source": [
    "import time\n",
    "from datetime import datetime\n",
    "\n",
    "print(\"Starting data sync\", end=\"\", flush=True)\n",
    "start_time = datetime.now()\n",
    "\n",
    "while True:\n",
    "    source_connection = client.source_connections.get_source_connection(\n",
    "        source_connection_id=source_connection.id\n",
    "    )\n",
    "    \n",
    "    status = source_connection.last_sync_job_status\n",
    "    \n",
    "    # Show progress\n",
    "    print(\".\", end=\"\", flush=True)\n",
    "    \n",
    "    if status == \"completed\":\n",
    "        elapsed = datetime.now() - start_time\n",
    "        print(f\"\\nData sync completed successfully! (took {elapsed.seconds} seconds)\")\n",
    "        break\n",
    "    elif status == \"failed\":\n",
    "        print(f\"\\nData sync {status}!\")\n",
    "        if source_connection.last_sync_job_error:\n",
    "            print(f\"Error: {source_connection.last_sync_job_error}\")\n",
    "        break\n",
    "    \n",
    "    time.sleep(2)"
   ]
  },
  {
   "cell_type": "markdown",
   "id": "c1d90989",
   "metadata": {},
   "source": [
    "##### Let's search through our collection\n",
    "\n",
    "Ask anything about the GitHub repository you synced.\n",
    "\n",
    "More information about the search endpoint can be found in the [API Reference](https://docs.airweave.ai/api-reference/collections/search-collection-collections-readable-id-search-get)."
   ]
  },
  {
   "cell_type": "code",
   "execution_count": null,
   "id": "3436492a",
   "metadata": {},
   "outputs": [],
   "source": [
    "response = client.collections.search_collection(\n",
    "    readable_id=collection.readable_id,\n",
    "    query=\"YOUR_QUERY\",\n",
    "    response_type=\"completion\"\n",
    ")\n",
    "\n",
    "print(response.completion)"
   ]
  }
 ],
 "metadata": {
  "kernelspec": {
   "display_name": "airweave-C3olHxYa-py3.11",
   "language": "python",
   "name": "python3"
  },
  "language_info": {
   "name": "python",
   "version": "3.11.12"
  }
 },
 "nbformat": 4,
 "nbformat_minor": 5
}
